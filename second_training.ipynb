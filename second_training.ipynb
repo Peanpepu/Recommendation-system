{
 "cells": [
  {
   "cell_type": "markdown",
   "metadata": {},
   "source": [
    "# Master dissertation\n",
    "## Development of videogames recommendation system with artificial intelligence\n",
    "#### Author: Pedro Antonio Peña Puente "
   ]
  },
  {
   "cell_type": "markdown",
   "metadata": {},
   "source": [
    "## 1 - Preprocessing"
   ]
  },
  {
   "cell_type": "markdown",
   "metadata": {},
   "source": [
    "### 1.1 - Importing libraries and loading Dataset\n",
    "\n",
    "First of all, we need to import the libraries and the dataset we want to use "
   ]
  },
  {
   "cell_type": "code",
   "execution_count": 1,
   "metadata": {},
   "outputs": [
    {
     "name": "stderr",
     "output_type": "stream",
     "text": [
      "2025-01-13 16:25:06.135649: I tensorflow/core/util/port.cc:110] oneDNN custom operations are on. You may see slightly different numerical results due to floating-point round-off errors from different computation orders. To turn them off, set the environment variable `TF_ENABLE_ONEDNN_OPTS=0`.\n",
      "2025-01-13 16:25:06.182034: I tensorflow/core/platform/cpu_feature_guard.cc:182] This TensorFlow binary is optimized to use available CPU instructions in performance-critical operations.\n",
      "To enable the following instructions: AVX2 AVX512F AVX512_VNNI FMA, in other operations, rebuild TensorFlow with the appropriate compiler flags.\n",
      "2025-01-13 16:25:06.941118: W tensorflow/compiler/tf2tensorrt/utils/py_utils.cc:38] TF-TRT Warning: Could not find TensorRT\n"
     ]
    },
    {
     "name": "stdout",
     "output_type": "stream",
     "text": [
      "System version: 3.10.12 (main, Nov  6 2024, 20:22:13) [GCC 11.4.0]\n",
      "Pandas version: 2.2.3\n",
      "Tensorflow version: 2.13.0\n",
      "Keras version: 2.13.1\n",
      "Num GPUs Available:  0\n"
     ]
    },
    {
     "name": "stderr",
     "output_type": "stream",
     "text": [
      "2025-01-13 16:25:07.752104: E tensorflow/compiler/xla/stream_executor/cuda/cuda_driver.cc:268] failed call to cuInit: CUDA_ERROR_UNKNOWN: unknown error\n",
      "2025-01-13 16:25:07.752131: I tensorflow/compiler/xla/stream_executor/cuda/cuda_diagnostics.cc:168] retrieving CUDA diagnostic information for host: pc-pedro\n",
      "2025-01-13 16:25:07.752135: I tensorflow/compiler/xla/stream_executor/cuda/cuda_diagnostics.cc:175] hostname: pc-pedro\n",
      "2025-01-13 16:25:07.752230: I tensorflow/compiler/xla/stream_executor/cuda/cuda_diagnostics.cc:199] libcuda reported version is: 535.216.3\n",
      "2025-01-13 16:25:07.752241: I tensorflow/compiler/xla/stream_executor/cuda/cuda_diagnostics.cc:203] kernel reported version is: 535.216.3\n",
      "2025-01-13 16:25:07.752244: I tensorflow/compiler/xla/stream_executor/cuda/cuda_diagnostics.cc:309] kernel version seems to match DSO: 535.216.3\n"
     ]
    }
   ],
   "source": [
    "# Import libraries\n",
    "import sys\n",
    "import os\n",
    "import numpy as np\n",
    "import pandas as pd\n",
    "import matplotlib.pyplot as plt\n",
    "import seaborn as sns\n",
    "import tensorflow as tf\n",
    "import keras\n",
    "\n",
    "# Check versions of libraries installed\n",
    "print(\"System version: {}\".format(sys.version))\n",
    "print(\"Pandas version: {}\".format(pd.__version__))\n",
    "print(\"Tensorflow version: {}\".format(tf.__version__))\n",
    "print(\"Keras version: {}\".format(keras.__version__))\n",
    "print(\"Num GPUs Available: \", len(tf.config.experimental.list_physical_devices('GPU')))"
   ]
  },
  {
   "cell_type": "code",
   "execution_count": 2,
   "metadata": {},
   "outputs": [],
   "source": [
    "# In order to make quicker the training process, we create a function to reduce the weight of the data type\n",
    "def reduce_memory(df):\n",
    "    for col in df.columns:\n",
    "        if df[col].dtype == 'float64':\n",
    "            df[col] = df[col].astype('float32')\n",
    "        elif df[col].dtype == 'int64':\n",
    "            df[col] = df[col].astype('int32')\n",
    "    return df"
   ]
  },
  {
   "cell_type": "code",
   "execution_count": 3,
   "metadata": {},
   "outputs": [
    {
     "data": {
      "text/html": [
       "<div>\n",
       "<style scoped>\n",
       "    .dataframe tbody tr th:only-of-type {\n",
       "        vertical-align: middle;\n",
       "    }\n",
       "\n",
       "    .dataframe tbody tr th {\n",
       "        vertical-align: top;\n",
       "    }\n",
       "\n",
       "    .dataframe thead th {\n",
       "        text-align: right;\n",
       "    }\n",
       "</style>\n",
       "<table border=\"1\" class=\"dataframe\">\n",
       "  <thead>\n",
       "    <tr style=\"text-align: right;\">\n",
       "      <th></th>\n",
       "      <th>app_id</th>\n",
       "      <th>title</th>\n",
       "      <th>date_release</th>\n",
       "      <th>win</th>\n",
       "      <th>mac</th>\n",
       "      <th>linux</th>\n",
       "      <th>rating</th>\n",
       "      <th>positive_ratio</th>\n",
       "      <th>user_reviews</th>\n",
       "      <th>price_final</th>\n",
       "      <th>price_original</th>\n",
       "      <th>discount</th>\n",
       "      <th>steam_deck</th>\n",
       "    </tr>\n",
       "  </thead>\n",
       "  <tbody>\n",
       "    <tr>\n",
       "      <th>0</th>\n",
       "      <td>13500</td>\n",
       "      <td>Prince of Persia: Warrior Within™</td>\n",
       "      <td>2008-11-21</td>\n",
       "      <td>True</td>\n",
       "      <td>False</td>\n",
       "      <td>False</td>\n",
       "      <td>Very Positive</td>\n",
       "      <td>84</td>\n",
       "      <td>2199</td>\n",
       "      <td>9.99</td>\n",
       "      <td>9.99</td>\n",
       "      <td>0.0</td>\n",
       "      <td>True</td>\n",
       "    </tr>\n",
       "    <tr>\n",
       "      <th>1</th>\n",
       "      <td>22364</td>\n",
       "      <td>BRINK: Agents of Change</td>\n",
       "      <td>2011-08-03</td>\n",
       "      <td>True</td>\n",
       "      <td>False</td>\n",
       "      <td>False</td>\n",
       "      <td>Positive</td>\n",
       "      <td>85</td>\n",
       "      <td>21</td>\n",
       "      <td>2.99</td>\n",
       "      <td>2.99</td>\n",
       "      <td>0.0</td>\n",
       "      <td>True</td>\n",
       "    </tr>\n",
       "    <tr>\n",
       "      <th>2</th>\n",
       "      <td>113020</td>\n",
       "      <td>Monaco: What's Yours Is Mine</td>\n",
       "      <td>2013-04-24</td>\n",
       "      <td>True</td>\n",
       "      <td>True</td>\n",
       "      <td>True</td>\n",
       "      <td>Very Positive</td>\n",
       "      <td>92</td>\n",
       "      <td>3722</td>\n",
       "      <td>14.99</td>\n",
       "      <td>14.99</td>\n",
       "      <td>0.0</td>\n",
       "      <td>True</td>\n",
       "    </tr>\n",
       "    <tr>\n",
       "      <th>3</th>\n",
       "      <td>226560</td>\n",
       "      <td>Escape Dead Island</td>\n",
       "      <td>2014-11-18</td>\n",
       "      <td>True</td>\n",
       "      <td>False</td>\n",
       "      <td>False</td>\n",
       "      <td>Mixed</td>\n",
       "      <td>61</td>\n",
       "      <td>873</td>\n",
       "      <td>14.99</td>\n",
       "      <td>14.99</td>\n",
       "      <td>0.0</td>\n",
       "      <td>True</td>\n",
       "    </tr>\n",
       "    <tr>\n",
       "      <th>4</th>\n",
       "      <td>249050</td>\n",
       "      <td>Dungeon of the ENDLESS™</td>\n",
       "      <td>2014-10-27</td>\n",
       "      <td>True</td>\n",
       "      <td>True</td>\n",
       "      <td>False</td>\n",
       "      <td>Very Positive</td>\n",
       "      <td>88</td>\n",
       "      <td>8784</td>\n",
       "      <td>11.99</td>\n",
       "      <td>11.99</td>\n",
       "      <td>0.0</td>\n",
       "      <td>True</td>\n",
       "    </tr>\n",
       "  </tbody>\n",
       "</table>\n",
       "</div>"
      ],
      "text/plain": [
       "   app_id                              title date_release   win    mac  linux  \\\n",
       "0   13500  Prince of Persia: Warrior Within™   2008-11-21  True  False  False   \n",
       "1   22364            BRINK: Agents of Change   2011-08-03  True  False  False   \n",
       "2  113020       Monaco: What's Yours Is Mine   2013-04-24  True   True   True   \n",
       "3  226560                 Escape Dead Island   2014-11-18  True  False  False   \n",
       "4  249050            Dungeon of the ENDLESS™   2014-10-27  True   True  False   \n",
       "\n",
       "          rating  positive_ratio  user_reviews  price_final  price_original  \\\n",
       "0  Very Positive              84          2199         9.99            9.99   \n",
       "1       Positive              85            21         2.99            2.99   \n",
       "2  Very Positive              92          3722        14.99           14.99   \n",
       "3          Mixed              61           873        14.99           14.99   \n",
       "4  Very Positive              88          8784        11.99           11.99   \n",
       "\n",
       "   discount  steam_deck  \n",
       "0       0.0        True  \n",
       "1       0.0        True  \n",
       "2       0.0        True  \n",
       "3       0.0        True  \n",
       "4       0.0        True  "
      ]
     },
     "execution_count": 3,
     "metadata": {},
     "output_type": "execute_result"
    }
   ],
   "source": [
    "# We load the data\n",
    "# Load games data\n",
    "games = reduce_memory(pd.read_csv(\"/home/pedro/Master_python/TFM/data/games.csv\"))\n",
    "games.head()"
   ]
  },
  {
   "cell_type": "code",
   "execution_count": 4,
   "metadata": {},
   "outputs": [
    {
     "data": {
      "text/html": [
       "<div>\n",
       "<style scoped>\n",
       "    .dataframe tbody tr th:only-of-type {\n",
       "        vertical-align: middle;\n",
       "    }\n",
       "\n",
       "    .dataframe tbody tr th {\n",
       "        vertical-align: top;\n",
       "    }\n",
       "\n",
       "    .dataframe thead th {\n",
       "        text-align: right;\n",
       "    }\n",
       "</style>\n",
       "<table border=\"1\" class=\"dataframe\">\n",
       "  <thead>\n",
       "    <tr style=\"text-align: right;\">\n",
       "      <th></th>\n",
       "      <th>app_id</th>\n",
       "      <th>helpful</th>\n",
       "      <th>funny</th>\n",
       "      <th>date</th>\n",
       "      <th>is_recommended</th>\n",
       "      <th>hours</th>\n",
       "      <th>user_id</th>\n",
       "      <th>review_id</th>\n",
       "    </tr>\n",
       "  </thead>\n",
       "  <tbody>\n",
       "    <tr>\n",
       "      <th>0</th>\n",
       "      <td>975370</td>\n",
       "      <td>0</td>\n",
       "      <td>0</td>\n",
       "      <td>2022-12-12</td>\n",
       "      <td>True</td>\n",
       "      <td>36.299999</td>\n",
       "      <td>51580</td>\n",
       "      <td>0</td>\n",
       "    </tr>\n",
       "    <tr>\n",
       "      <th>1</th>\n",
       "      <td>304390</td>\n",
       "      <td>4</td>\n",
       "      <td>0</td>\n",
       "      <td>2017-02-17</td>\n",
       "      <td>False</td>\n",
       "      <td>11.500000</td>\n",
       "      <td>2586</td>\n",
       "      <td>1</td>\n",
       "    </tr>\n",
       "    <tr>\n",
       "      <th>2</th>\n",
       "      <td>1085660</td>\n",
       "      <td>2</td>\n",
       "      <td>0</td>\n",
       "      <td>2019-11-17</td>\n",
       "      <td>True</td>\n",
       "      <td>336.500000</td>\n",
       "      <td>253880</td>\n",
       "      <td>2</td>\n",
       "    </tr>\n",
       "    <tr>\n",
       "      <th>3</th>\n",
       "      <td>703080</td>\n",
       "      <td>0</td>\n",
       "      <td>0</td>\n",
       "      <td>2022-09-23</td>\n",
       "      <td>True</td>\n",
       "      <td>27.400000</td>\n",
       "      <td>259432</td>\n",
       "      <td>3</td>\n",
       "    </tr>\n",
       "    <tr>\n",
       "      <th>4</th>\n",
       "      <td>526870</td>\n",
       "      <td>0</td>\n",
       "      <td>0</td>\n",
       "      <td>2021-01-10</td>\n",
       "      <td>True</td>\n",
       "      <td>7.900000</td>\n",
       "      <td>23869</td>\n",
       "      <td>4</td>\n",
       "    </tr>\n",
       "  </tbody>\n",
       "</table>\n",
       "</div>"
      ],
      "text/plain": [
       "    app_id  helpful  funny        date  is_recommended       hours  user_id  \\\n",
       "0   975370        0      0  2022-12-12            True   36.299999    51580   \n",
       "1   304390        4      0  2017-02-17           False   11.500000     2586   \n",
       "2  1085660        2      0  2019-11-17            True  336.500000   253880   \n",
       "3   703080        0      0  2022-09-23            True   27.400000   259432   \n",
       "4   526870        0      0  2021-01-10            True    7.900000    23869   \n",
       "\n",
       "   review_id  \n",
       "0          0  \n",
       "1          1  \n",
       "2          2  \n",
       "3          3  \n",
       "4          4  "
      ]
     },
     "execution_count": 4,
     "metadata": {},
     "output_type": "execute_result"
    }
   ],
   "source": [
    "# Load recommendations data\n",
    "recommendations = reduce_memory(pd.read_csv(\"/home/pedro/Master_python/TFM/data/recommendations.csv\"))\n",
    "recommendations.head()"
   ]
  },
  {
   "cell_type": "code",
   "execution_count": 5,
   "metadata": {},
   "outputs": [
    {
     "data": {
      "text/html": [
       "<div>\n",
       "<style scoped>\n",
       "    .dataframe tbody tr th:only-of-type {\n",
       "        vertical-align: middle;\n",
       "    }\n",
       "\n",
       "    .dataframe tbody tr th {\n",
       "        vertical-align: top;\n",
       "    }\n",
       "\n",
       "    .dataframe thead th {\n",
       "        text-align: right;\n",
       "    }\n",
       "</style>\n",
       "<table border=\"1\" class=\"dataframe\">\n",
       "  <thead>\n",
       "    <tr style=\"text-align: right;\">\n",
       "      <th></th>\n",
       "      <th>user_id</th>\n",
       "      <th>products</th>\n",
       "      <th>reviews</th>\n",
       "    </tr>\n",
       "  </thead>\n",
       "  <tbody>\n",
       "    <tr>\n",
       "      <th>0</th>\n",
       "      <td>7360263</td>\n",
       "      <td>359</td>\n",
       "      <td>0</td>\n",
       "    </tr>\n",
       "    <tr>\n",
       "      <th>1</th>\n",
       "      <td>14020781</td>\n",
       "      <td>156</td>\n",
       "      <td>1</td>\n",
       "    </tr>\n",
       "    <tr>\n",
       "      <th>2</th>\n",
       "      <td>8762579</td>\n",
       "      <td>329</td>\n",
       "      <td>4</td>\n",
       "    </tr>\n",
       "    <tr>\n",
       "      <th>3</th>\n",
       "      <td>4820647</td>\n",
       "      <td>176</td>\n",
       "      <td>4</td>\n",
       "    </tr>\n",
       "    <tr>\n",
       "      <th>4</th>\n",
       "      <td>5167327</td>\n",
       "      <td>98</td>\n",
       "      <td>2</td>\n",
       "    </tr>\n",
       "  </tbody>\n",
       "</table>\n",
       "</div>"
      ],
      "text/plain": [
       "    user_id  products  reviews\n",
       "0   7360263       359        0\n",
       "1  14020781       156        1\n",
       "2   8762579       329        4\n",
       "3   4820647       176        4\n",
       "4   5167327        98        2"
      ]
     },
     "execution_count": 5,
     "metadata": {},
     "output_type": "execute_result"
    }
   ],
   "source": [
    "# Load users data\n",
    "users = reduce_memory(pd.read_csv(\"/home/pedro/Master_python/TFM/data/users.csv\"))\n",
    "users.head()"
   ]
  },
  {
   "cell_type": "code",
   "execution_count": 6,
   "metadata": {},
   "outputs": [
    {
     "data": {
      "text/html": [
       "<div>\n",
       "<style scoped>\n",
       "    .dataframe tbody tr th:only-of-type {\n",
       "        vertical-align: middle;\n",
       "    }\n",
       "\n",
       "    .dataframe tbody tr th {\n",
       "        vertical-align: top;\n",
       "    }\n",
       "\n",
       "    .dataframe thead th {\n",
       "        text-align: right;\n",
       "    }\n",
       "</style>\n",
       "<table border=\"1\" class=\"dataframe\">\n",
       "  <thead>\n",
       "    <tr style=\"text-align: right;\">\n",
       "      <th></th>\n",
       "      <th>app_id</th>\n",
       "      <th>description</th>\n",
       "      <th>tags</th>\n",
       "    </tr>\n",
       "  </thead>\n",
       "  <tbody>\n",
       "    <tr>\n",
       "      <th>0</th>\n",
       "      <td>13500</td>\n",
       "      <td>Enter the dark underworld of Prince of Persia ...</td>\n",
       "      <td>[Action, Adventure, Parkour, Third Person, Gre...</td>\n",
       "    </tr>\n",
       "    <tr>\n",
       "      <th>1</th>\n",
       "      <td>22364</td>\n",
       "      <td></td>\n",
       "      <td>[Action]</td>\n",
       "    </tr>\n",
       "    <tr>\n",
       "      <th>2</th>\n",
       "      <td>113020</td>\n",
       "      <td>Monaco: What's Yours Is Mine is a single playe...</td>\n",
       "      <td>[Co-op, Stealth, Indie, Heist, Local Co-Op, St...</td>\n",
       "    </tr>\n",
       "    <tr>\n",
       "      <th>3</th>\n",
       "      <td>226560</td>\n",
       "      <td>Escape Dead Island is a Survival-Mystery adven...</td>\n",
       "      <td>[Zombies, Adventure, Survival, Action, Third P...</td>\n",
       "    </tr>\n",
       "    <tr>\n",
       "      <th>4</th>\n",
       "      <td>249050</td>\n",
       "      <td>Dungeon of the Endless is a Rogue-Like Dungeon...</td>\n",
       "      <td>[Roguelike, Strategy, Tower Defense, Pixel Gra...</td>\n",
       "    </tr>\n",
       "  </tbody>\n",
       "</table>\n",
       "</div>"
      ],
      "text/plain": [
       "   app_id                                        description  \\\n",
       "0   13500  Enter the dark underworld of Prince of Persia ...   \n",
       "1   22364                                                      \n",
       "2  113020  Monaco: What's Yours Is Mine is a single playe...   \n",
       "3  226560  Escape Dead Island is a Survival-Mystery adven...   \n",
       "4  249050  Dungeon of the Endless is a Rogue-Like Dungeon...   \n",
       "\n",
       "                                                tags  \n",
       "0  [Action, Adventure, Parkour, Third Person, Gre...  \n",
       "1                                           [Action]  \n",
       "2  [Co-op, Stealth, Indie, Heist, Local Co-Op, St...  \n",
       "3  [Zombies, Adventure, Survival, Action, Third P...  \n",
       "4  [Roguelike, Strategy, Tower Defense, Pixel Gra...  "
      ]
     },
     "execution_count": 6,
     "metadata": {},
     "output_type": "execute_result"
    }
   ],
   "source": [
    "# Load games metadata\n",
    "games_metadata = pd.read_json('/home/pedro/Master_python/TFM/data/games_metadata.json', lines=True)\n",
    "games_metadata.head()"
   ]
  },
  {
   "cell_type": "markdown",
   "metadata": {},
   "source": [
    "### 1.2 - Exploring data\n",
    "\n",
    "Lets explore the data and their characteristics"
   ]
  },
  {
   "cell_type": "code",
   "execution_count": 7,
   "metadata": {},
   "outputs": [
    {
     "name": "stdout",
     "output_type": "stream",
     "text": [
      "<class 'pandas.core.frame.DataFrame'>\n",
      "RangeIndex: 50872 entries, 0 to 50871\n",
      "Data columns (total 13 columns):\n",
      " #   Column          Non-Null Count  Dtype  \n",
      "---  ------          --------------  -----  \n",
      " 0   app_id          50872 non-null  int32  \n",
      " 1   title           50872 non-null  object \n",
      " 2   date_release    50872 non-null  object \n",
      " 3   win             50872 non-null  bool   \n",
      " 4   mac             50872 non-null  bool   \n",
      " 5   linux           50872 non-null  bool   \n",
      " 6   rating          50872 non-null  object \n",
      " 7   positive_ratio  50872 non-null  int32  \n",
      " 8   user_reviews    50872 non-null  int32  \n",
      " 9   price_final     50872 non-null  float32\n",
      " 10  price_original  50872 non-null  float32\n",
      " 11  discount        50872 non-null  float32\n",
      " 12  steam_deck      50872 non-null  bool   \n",
      "dtypes: bool(4), float32(3), int32(3), object(3)\n",
      "memory usage: 2.5+ MB\n"
     ]
    }
   ],
   "source": [
    "# Check the columns information\n",
    "games.info()"
   ]
  },
  {
   "cell_type": "code",
   "execution_count": 8,
   "metadata": {},
   "outputs": [
    {
     "name": "stdout",
     "output_type": "stream",
     "text": [
      "<class 'pandas.core.frame.DataFrame'>\n",
      "RangeIndex: 41154794 entries, 0 to 41154793\n",
      "Data columns (total 8 columns):\n",
      " #   Column          Dtype  \n",
      "---  ------          -----  \n",
      " 0   app_id          int32  \n",
      " 1   helpful         int32  \n",
      " 2   funny           int32  \n",
      " 3   date            object \n",
      " 4   is_recommended  bool   \n",
      " 5   hours           float32\n",
      " 6   user_id         int32  \n",
      " 7   review_id       int32  \n",
      "dtypes: bool(1), float32(1), int32(5), object(1)\n",
      "memory usage: 1.3+ GB\n"
     ]
    }
   ],
   "source": [
    "# Check the columns information\n",
    "recommendations.info()"
   ]
  },
  {
   "cell_type": "code",
   "execution_count": 9,
   "metadata": {},
   "outputs": [
    {
     "name": "stdout",
     "output_type": "stream",
     "text": [
      "<class 'pandas.core.frame.DataFrame'>\n",
      "RangeIndex: 14306064 entries, 0 to 14306063\n",
      "Data columns (total 3 columns):\n",
      " #   Column    Dtype\n",
      "---  ------    -----\n",
      " 0   user_id   int32\n",
      " 1   products  int32\n",
      " 2   reviews   int32\n",
      "dtypes: int32(3)\n",
      "memory usage: 163.7 MB\n"
     ]
    }
   ],
   "source": [
    "# Check the columns information\n",
    "users.info()"
   ]
  },
  {
   "cell_type": "code",
   "execution_count": 10,
   "metadata": {},
   "outputs": [
    {
     "data": {
      "text/plain": [
       "Index(['app_id', 'title', 'date_release', 'win', 'mac', 'linux', 'rating',\n",
       "       'positive_ratio', 'user_reviews', 'price_final', 'price_original',\n",
       "       'discount', 'steam_deck'],\n",
       "      dtype='object')"
      ]
     },
     "execution_count": 10,
     "metadata": {},
     "output_type": "execute_result"
    }
   ],
   "source": [
    "# Check the columns information\n",
    "games.columns"
   ]
  },
  {
   "cell_type": "markdown",
   "metadata": {},
   "source": [
    "Lets start the data exploration checking how many games release on each year"
   ]
  },
  {
   "cell_type": "code",
   "execution_count": 11,
   "metadata": {},
   "outputs": [
    {
     "data": {
      "text/plain": [
       "0"
      ]
     },
     "execution_count": 11,
     "metadata": {},
     "output_type": "execute_result"
    }
   ],
   "source": [
    "# Check null values\n",
    "games['date_release'].isnull().sum()"
   ]
  },
  {
   "cell_type": "code",
   "execution_count": 12,
   "metadata": {},
   "outputs": [],
   "source": [
    "# Convert the date columns to datetime\n",
    "games['date_release'] = pd.to_datetime(games['date_release'])\n",
    "games['release_year'] = games['date_release'].dt.year"
   ]
  },
  {
   "cell_type": "code",
   "execution_count": 13,
   "metadata": {},
   "outputs": [
    {
     "data": {
      "image/png": "[encoded data removed]",
      "text/plain": [
       "<Figure size 1000x600 with 1 Axes>"
      ]
     },
     "metadata": {},
     "output_type": "display_data"
    }
   ],
   "source": [
    "# Draw a histogram of the number of games released by year\n",
    "plt.figure(figsize=(10, 6))\n",
    "plt.hist(games['release_year'], bins=range(min(games['release_year']), max(games['release_year']) + 2), edgecolor='red')\n",
    "plt.title('Distribution of Game Releases by Year')\n",
    "plt.xlabel('Release Year')\n",
    "plt.ylabel('Number of Games Released')\n",
    "plt.xticks(range(min(games['release_year']), max(games['release_year']) + 2))\n",
    "plt.xticks(rotation=45)\n",
    "plt.tight_layout()"
   ]
  },
  {
   "cell_type": "markdown",
   "metadata": {},
   "source": [
    "As we can, see the amount of games realesed has an positive trend year by year"
   ]
  },
  {
   "cell_type": "markdown",
   "metadata": {},
   "source": [
    "Now we will see what percentage of games support Windows, Linux and MacOS"
   ]
  },
  {
   "cell_type": "code",
   "execution_count": 14,
   "metadata": {},
   "outputs": [
    {
     "data": {
      "image/png": "[encoded data removed]",
      "text/plain": [
       "<Figure size 1500x500 with 3 Axes>"
      ]
     },
     "metadata": {},
     "output_type": "display_data"
    }
   ],
   "source": [
    "# Count the number of True values per platform\n",
    "counts_win = games['win'].value_counts()\n",
    "counts_linux = games['linux'].value_counts()\n",
    "counts_mac = games['mac'].value_counts()\n",
    "\n",
    "# Draw a pie chart of the distribution of games by platform\n",
    "fig, axs = plt.subplots(1, 3, figsize=(15, 5))\n",
    "\n",
    "# pie chart for Windows\n",
    "axs[0].pie(counts_win, labels=counts_win.index, autopct='%1.1f%%', colors=['lightgreen', 'lightcoral']) \n",
    "axs[0].set_title('Windows')\n",
    "# autopct format the percentage to format 17.8%\n",
    "\n",
    "# pie chart for Linux\n",
    "axs[1].pie(counts_linux, labels=counts_linux.index, autopct='%1.1f%%', colors=['lightcoral', 'lightgreen'])\n",
    "axs[1].set_title('Linux')\n",
    "\n",
    "# pie chart for macOS\n",
    "axs[2].pie(counts_mac, labels=counts_mac.index, autopct='%1.1f%%', colors=['lightcoral', 'lightgreen'])\n",
    "axs[2].set_title('macOS')\n",
    "\n",
    "# Fit the layout\n",
    "plt.tight_layout()"
   ]
  },
  {
   "cell_type": "markdown",
   "metadata": {},
   "source": [
    "Now, lets check the amount of positively rated games"
   ]
  },
  {
   "cell_type": "code",
   "execution_count": 15,
   "metadata": {},
   "outputs": [
    {
     "data": {
      "text/plain": [
       "array(['Very Positive', 'Positive', 'Mixed', 'Mostly Positive',\n",
       "       'Overwhelmingly Positive', 'Negative', 'Mostly Negative',\n",
       "       'Overwhelmingly Negative', 'Very Negative'], dtype=object)"
      ]
     },
     "execution_count": 15,
     "metadata": {},
     "output_type": "execute_result"
    }
   ],
   "source": [
    "games['rating'].unique()"
   ]
  },
  {
   "cell_type": "code",
   "execution_count": 16,
   "metadata": {},
   "outputs": [
    {
     "name": "stderr",
     "output_type": "stream",
     "text": [
      "/tmp/ipykernel_1322598/2660493765.py:3: FutureWarning: \n",
      "\n",
      "Passing `palette` without assigning `hue` is deprecated and will be removed in v0.14.0. Assign the `x` variable to `hue` and set `legend=False` for the same effect.\n",
      "\n",
      "  sns.countplot( x='rating' , data = games ,\n"
     ]
    },
    {
     "data": {
      "image/png": "[encoded data removed]",
      "text/plain": [
       "<Figure size 900x600 with 1 Axes>"
      ]
     },
     "metadata": {},
     "output_type": "display_data"
    }
   ],
   "source": [
    "# Plot a bar chart with the number of games per rating\n",
    "plt.figure(figsize=(9, 6))\n",
    "sns.countplot( x='rating' , data = games , \n",
    "    palette = [\n",
    "    'DeepSkyBlue',        # Very Positive\n",
    "    'LightSkyBlue',       # Positive\n",
    "    'DarkOrange',         # Mixed\n",
    "    'LightSalmon',        # Mostly Positive\n",
    "    'LimeGreen',          # Overwhelmingly Positive\n",
    "    'Red',                # Negative\n",
    "    'LightCoral',         # Mostly Negative\n",
    "    'MediumPurple',       # Overwhelmingly Negative\n",
    "    'RosyBrown'           # Very Negative\n",
    "])\n",
    "plt.xticks(rotation=45)\n",
    "plt.tight_layout()"
   ]
  },
  {
   "cell_type": "code",
   "execution_count": 17,
   "metadata": {},
   "outputs": [
    {
     "name": "stdout",
     "output_type": "stream",
     "text": [
      "Number of Positively Rated Games (Rating > 70) :-  71.72707972951721\n",
      "Number of Negatively Rated Games (Rating < 70) :-  28.272920270482782\n"
     ]
    }
   ],
   "source": [
    "print(\"Number of Positively Rated Games (Rating > 70) :- \",(games[games['positive_ratio'] >= 70].shape[0] / games.shape[0]) * 100)\n",
    "print(\"Number of Negatively Rated Games (Rating < 70) :- \",(games[games['positive_ratio'] < 70].shape[0] / games.shape[0]) * 100)"
   ]
  },
  {
   "cell_type": "code",
   "execution_count": 18,
   "metadata": {},
   "outputs": [
    {
     "name": "stdout",
     "output_type": "stream",
     "text": [
      "The cheapest game cost 0.0$\n",
      "The most expensive game cost 299.99$\n",
      "                positive_ratio  user_reviews\n",
      "price_category                              \n",
      "Low-priced           77.296487   1574.153404\n",
      "Medium-priced        70.750533  10344.377399\n",
      "High-priced          78.892857     36.357143\n"
     ]
    },
    {
     "name": "stderr",
     "output_type": "stream",
     "text": [
      "/tmp/ipykernel_1322598/3260765302.py:13: FutureWarning: The default of observed=False is deprecated and will be changed to True in a future version of pandas. Pass observed=False to retain current behavior or observed=True to adopt the future default and silence this warning.\n",
      "  segmented_analysis = games.groupby('price_category').agg({\n"
     ]
    }
   ],
   "source": [
    "# Now lets explore the game prices\n",
    "print(f\"The cheapest game cost {round(min(games['price_final']),2)}$\")\n",
    "print(f\"The most expensive game cost {round(max(games['price_final']),2)}$\")\n",
    "\n",
    "price_bins = [0, 50, 100, float('inf')] \n",
    "\n",
    "price_labels = ['Low-priced', 'Medium-priced', 'High-priced']\n",
    "\n",
    "# 'price_category' based on price bins\n",
    "games['price_category'] = pd.cut(games['price_final'], bins=price_bins, labels=price_labels)\n",
    "\n",
    "# Group by price category and calculate mean positive ratio and mean user reviews for each category\n",
    "segmented_analysis = games.groupby('price_category').agg({\n",
    "    'positive_ratio': 'mean',\n",
    "    'user_reviews': 'mean'\n",
    "})\n",
    "\n",
    "print(segmented_analysis)"
   ]
  },
  {
   "cell_type": "code",
   "execution_count": 19,
   "metadata": {},
   "outputs": [
    {
     "data": {
      "text/html": [
       "<div>\n",
       "<style scoped>\n",
       "    .dataframe tbody tr th:only-of-type {\n",
       "        vertical-align: middle;\n",
       "    }\n",
       "\n",
       "    .dataframe tbody tr th {\n",
       "        vertical-align: top;\n",
       "    }\n",
       "\n",
       "    .dataframe thead th {\n",
       "        text-align: right;\n",
       "    }\n",
       "</style>\n",
       "<table border=\"1\" class=\"dataframe\">\n",
       "  <thead>\n",
       "    <tr style=\"text-align: right;\">\n",
       "      <th></th>\n",
       "      <th>app_id</th>\n",
       "      <th>title</th>\n",
       "      <th>date_release</th>\n",
       "      <th>win</th>\n",
       "      <th>mac</th>\n",
       "      <th>linux</th>\n",
       "      <th>rating</th>\n",
       "      <th>positive_ratio</th>\n",
       "      <th>user_reviews</th>\n",
       "      <th>price_final</th>\n",
       "      <th>price_original</th>\n",
       "      <th>discount</th>\n",
       "      <th>steam_deck</th>\n",
       "      <th>release_year</th>\n",
       "      <th>price_category</th>\n",
       "    </tr>\n",
       "  </thead>\n",
       "  <tbody>\n",
       "    <tr>\n",
       "      <th>0</th>\n",
       "      <td>13500</td>\n",
       "      <td>Prince of Persia: Warrior Within™</td>\n",
       "      <td>2008-11-21</td>\n",
       "      <td>True</td>\n",
       "      <td>False</td>\n",
       "      <td>False</td>\n",
       "      <td>Very Positive</td>\n",
       "      <td>84</td>\n",
       "      <td>2199</td>\n",
       "      <td>9.99</td>\n",
       "      <td>9.99</td>\n",
       "      <td>0.0</td>\n",
       "      <td>True</td>\n",
       "      <td>2008</td>\n",
       "      <td>Low-priced</td>\n",
       "    </tr>\n",
       "    <tr>\n",
       "      <th>1</th>\n",
       "      <td>22364</td>\n",
       "      <td>BRINK: Agents of Change</td>\n",
       "      <td>2011-08-03</td>\n",
       "      <td>True</td>\n",
       "      <td>False</td>\n",
       "      <td>False</td>\n",
       "      <td>Positive</td>\n",
       "      <td>85</td>\n",
       "      <td>21</td>\n",
       "      <td>2.99</td>\n",
       "      <td>2.99</td>\n",
       "      <td>0.0</td>\n",
       "      <td>True</td>\n",
       "      <td>2011</td>\n",
       "      <td>Low-priced</td>\n",
       "    </tr>\n",
       "    <tr>\n",
       "      <th>2</th>\n",
       "      <td>113020</td>\n",
       "      <td>Monaco: What's Yours Is Mine</td>\n",
       "      <td>2013-04-24</td>\n",
       "      <td>True</td>\n",
       "      <td>True</td>\n",
       "      <td>True</td>\n",
       "      <td>Very Positive</td>\n",
       "      <td>92</td>\n",
       "      <td>3722</td>\n",
       "      <td>14.99</td>\n",
       "      <td>14.99</td>\n",
       "      <td>0.0</td>\n",
       "      <td>True</td>\n",
       "      <td>2013</td>\n",
       "      <td>Low-priced</td>\n",
       "    </tr>\n",
       "    <tr>\n",
       "      <th>3</th>\n",
       "      <td>226560</td>\n",
       "      <td>Escape Dead Island</td>\n",
       "      <td>2014-11-18</td>\n",
       "      <td>True</td>\n",
       "      <td>False</td>\n",
       "      <td>False</td>\n",
       "      <td>Mixed</td>\n",
       "      <td>61</td>\n",
       "      <td>873</td>\n",
       "      <td>14.99</td>\n",
       "      <td>14.99</td>\n",
       "      <td>0.0</td>\n",
       "      <td>True</td>\n",
       "      <td>2014</td>\n",
       "      <td>Low-priced</td>\n",
       "    </tr>\n",
       "    <tr>\n",
       "      <th>4</th>\n",
       "      <td>249050</td>\n",
       "      <td>Dungeon of the ENDLESS™</td>\n",
       "      <td>2014-10-27</td>\n",
       "      <td>True</td>\n",
       "      <td>True</td>\n",
       "      <td>False</td>\n",
       "      <td>Very Positive</td>\n",
       "      <td>88</td>\n",
       "      <td>8784</td>\n",
       "      <td>11.99</td>\n",
       "      <td>11.99</td>\n",
       "      <td>0.0</td>\n",
       "      <td>True</td>\n",
       "      <td>2014</td>\n",
       "      <td>Low-priced</td>\n",
       "    </tr>\n",
       "  </tbody>\n",
       "</table>\n",
       "</div>"
      ],
      "text/plain": [
       "   app_id                              title date_release   win    mac  linux  \\\n",
       "0   13500  Prince of Persia: Warrior Within™   2008-11-21  True  False  False   \n",
       "1   22364            BRINK: Agents of Change   2011-08-03  True  False  False   \n",
       "2  113020       Monaco: What's Yours Is Mine   2013-04-24  True   True   True   \n",
       "3  226560                 Escape Dead Island   2014-11-18  True  False  False   \n",
       "4  249050            Dungeon of the ENDLESS™   2014-10-27  True   True  False   \n",
       "\n",
       "          rating  positive_ratio  user_reviews  price_final  price_original  \\\n",
       "0  Very Positive              84          2199         9.99            9.99   \n",
       "1       Positive              85            21         2.99            2.99   \n",
       "2  Very Positive              92          3722        14.99           14.99   \n",
       "3          Mixed              61           873        14.99           14.99   \n",
       "4  Very Positive              88          8784        11.99           11.99   \n",
       "\n",
       "   discount  steam_deck  release_year price_category  \n",
       "0       0.0        True          2008     Low-priced  \n",
       "1       0.0        True          2011     Low-priced  \n",
       "2       0.0        True          2013     Low-priced  \n",
       "3       0.0        True          2014     Low-priced  \n",
       "4       0.0        True          2014     Low-priced  "
      ]
     },
     "execution_count": 19,
     "metadata": {},
     "output_type": "execute_result"
    }
   ],
   "source": [
    "# Show the games data\n",
    "games.head()"
   ]
  },
  {
   "cell_type": "code",
   "execution_count": 20,
   "metadata": {},
   "outputs": [
    {
     "data": {
      "text/html": [
       "<div>\n",
       "<style scoped>\n",
       "    .dataframe tbody tr th:only-of-type {\n",
       "        vertical-align: middle;\n",
       "    }\n",
       "\n",
       "    .dataframe tbody tr th {\n",
       "        vertical-align: top;\n",
       "    }\n",
       "\n",
       "    .dataframe thead th {\n",
       "        text-align: right;\n",
       "    }\n",
       "</style>\n",
       "<table border=\"1\" class=\"dataframe\">\n",
       "  <thead>\n",
       "    <tr style=\"text-align: right;\">\n",
       "      <th></th>\n",
       "      <th>user_id</th>\n",
       "      <th>products</th>\n",
       "      <th>reviews</th>\n",
       "    </tr>\n",
       "  </thead>\n",
       "  <tbody>\n",
       "    <tr>\n",
       "      <th>0</th>\n",
       "      <td>7360263</td>\n",
       "      <td>359</td>\n",
       "      <td>0</td>\n",
       "    </tr>\n",
       "    <tr>\n",
       "      <th>1</th>\n",
       "      <td>14020781</td>\n",
       "      <td>156</td>\n",
       "      <td>1</td>\n",
       "    </tr>\n",
       "    <tr>\n",
       "      <th>2</th>\n",
       "      <td>8762579</td>\n",
       "      <td>329</td>\n",
       "      <td>4</td>\n",
       "    </tr>\n",
       "    <tr>\n",
       "      <th>3</th>\n",
       "      <td>4820647</td>\n",
       "      <td>176</td>\n",
       "      <td>4</td>\n",
       "    </tr>\n",
       "    <tr>\n",
       "      <th>4</th>\n",
       "      <td>5167327</td>\n",
       "      <td>98</td>\n",
       "      <td>2</td>\n",
       "    </tr>\n",
       "  </tbody>\n",
       "</table>\n",
       "</div>"
      ],
      "text/plain": [
       "    user_id  products  reviews\n",
       "0   7360263       359        0\n",
       "1  14020781       156        1\n",
       "2   8762579       329        4\n",
       "3   4820647       176        4\n",
       "4   5167327        98        2"
      ]
     },
     "execution_count": 20,
     "metadata": {},
     "output_type": "execute_result"
    }
   ],
   "source": [
    "# Show the users data\n",
    "users.head()"
   ]
  },
  {
   "cell_type": "code",
   "execution_count": 21,
   "metadata": {},
   "outputs": [
    {
     "data": {
      "text/html": [
       "<div>\n",
       "<style scoped>\n",
       "    .dataframe tbody tr th:only-of-type {\n",
       "        vertical-align: middle;\n",
       "    }\n",
       "\n",
       "    .dataframe tbody tr th {\n",
       "        vertical-align: top;\n",
       "    }\n",
       "\n",
       "    .dataframe thead th {\n",
       "        text-align: right;\n",
       "    }\n",
       "</style>\n",
       "<table border=\"1\" class=\"dataframe\">\n",
       "  <thead>\n",
       "    <tr style=\"text-align: right;\">\n",
       "      <th></th>\n",
       "      <th>app_id</th>\n",
       "      <th>helpful</th>\n",
       "      <th>funny</th>\n",
       "      <th>date</th>\n",
       "      <th>is_recommended</th>\n",
       "      <th>hours</th>\n",
       "      <th>user_id</th>\n",
       "      <th>review_id</th>\n",
       "    </tr>\n",
       "  </thead>\n",
       "  <tbody>\n",
       "    <tr>\n",
       "      <th>0</th>\n",
       "      <td>975370</td>\n",
       "      <td>0</td>\n",
       "      <td>0</td>\n",
       "      <td>2022-12-12</td>\n",
       "      <td>True</td>\n",
       "      <td>36.299999</td>\n",
       "      <td>51580</td>\n",
       "      <td>0</td>\n",
       "    </tr>\n",
       "    <tr>\n",
       "      <th>1</th>\n",
       "      <td>304390</td>\n",
       "      <td>4</td>\n",
       "      <td>0</td>\n",
       "      <td>2017-02-17</td>\n",
       "      <td>False</td>\n",
       "      <td>11.500000</td>\n",
       "      <td>2586</td>\n",
       "      <td>1</td>\n",
       "    </tr>\n",
       "    <tr>\n",
       "      <th>2</th>\n",
       "      <td>1085660</td>\n",
       "      <td>2</td>\n",
       "      <td>0</td>\n",
       "      <td>2019-11-17</td>\n",
       "      <td>True</td>\n",
       "      <td>336.500000</td>\n",
       "      <td>253880</td>\n",
       "      <td>2</td>\n",
       "    </tr>\n",
       "    <tr>\n",
       "      <th>3</th>\n",
       "      <td>703080</td>\n",
       "      <td>0</td>\n",
       "      <td>0</td>\n",
       "      <td>2022-09-23</td>\n",
       "      <td>True</td>\n",
       "      <td>27.400000</td>\n",
       "      <td>259432</td>\n",
       "      <td>3</td>\n",
       "    </tr>\n",
       "    <tr>\n",
       "      <th>4</th>\n",
       "      <td>526870</td>\n",
       "      <td>0</td>\n",
       "      <td>0</td>\n",
       "      <td>2021-01-10</td>\n",
       "      <td>True</td>\n",
       "      <td>7.900000</td>\n",
       "      <td>23869</td>\n",
       "      <td>4</td>\n",
       "    </tr>\n",
       "  </tbody>\n",
       "</table>\n",
       "</div>"
      ],
      "text/plain": [
       "    app_id  helpful  funny        date  is_recommended       hours  user_id  \\\n",
       "0   975370        0      0  2022-12-12            True   36.299999    51580   \n",
       "1   304390        4      0  2017-02-17           False   11.500000     2586   \n",
       "2  1085660        2      0  2019-11-17            True  336.500000   253880   \n",
       "3   703080        0      0  2022-09-23            True   27.400000   259432   \n",
       "4   526870        0      0  2021-01-10            True    7.900000    23869   \n",
       "\n",
       "   review_id  \n",
       "0          0  \n",
       "1          1  \n",
       "2          2  \n",
       "3          3  \n",
       "4          4  "
      ]
     },
     "execution_count": 21,
     "metadata": {},
     "output_type": "execute_result"
    }
   ],
   "source": [
    "# Show the recommendations data\n",
    "recommendations.head()"
   ]
  },
  {
   "cell_type": "code",
   "execution_count": 22,
   "metadata": {},
   "outputs": [
    {
     "data": {
      "text/plain": [
       "14306064"
      ]
     },
     "execution_count": 22,
     "metadata": {},
     "output_type": "execute_result"
    }
   ],
   "source": [
    "# Check the unique users\n",
    "# Here User_ID is auto genrated id due to privacy concerns\n",
    "users['user_id'].unique().shape[0]"
   ]
  },
  {
   "cell_type": "code",
   "execution_count": 23,
   "metadata": {},
   "outputs": [
    {
     "data": {
      "image/png": "[encoded data removed]",
      "text/plain": [
       "<Figure size 1000x600 with 1 Axes>"
      ]
     },
     "metadata": {},
     "output_type": "display_data"
    }
   ],
   "source": [
    "# Plot the amount of products purchased by user\n",
    "# Create bins for the number of products\n",
    "bins = [0 , 100 , 200 , 300 , 400 , float('inf')]\n",
    "users['product_bin'] = pd.cut(users['products'], bins=bins)\n",
    "\n",
    "# Count the number of users in each bin\n",
    "bin_counts = users['product_bin'].value_counts().sort_index()\n",
    "\n",
    "# Plot a bar plot of the distribution of products per user\n",
    "plt.figure(figsize=(10, 6))\n",
    "bin_counts.plot(kind='bar', edgecolor='black')\n",
    "plt.title('Distribution of Products Purchased per User')\n",
    "plt.xlabel('Number of Products')\n",
    "plt.ylabel('Number of Users')\n",
    "plt.xticks(rotation=45)\n",
    "plt.show()"
   ]
  },
  {
   "cell_type": "code",
   "execution_count": 24,
   "metadata": {},
   "outputs": [
    {
     "data": {
      "image/png": "[encoded data removed]",
      "text/plain": [
       "<Figure size 800x600 with 1 Axes>"
      ]
     },
     "metadata": {},
     "output_type": "display_data"
    }
   ],
   "source": [
    "# Now lets explore the distribution of hours played by users\n",
    "# Plot a bar plot with the distribution of hours played by users\n",
    "plt.figure(figsize=(8, 6))\n",
    "plt.hist(recommendations['hours'], bins=30, edgecolor='black')\n",
    "plt.title('Distribution of Hours Played by Users')\n",
    "plt.xlabel('Hours Played')\n",
    "plt.ylabel('Number of Users')\n",
    "plt.show()"
   ]
  },
  {
   "cell_type": "code",
   "execution_count": 25,
   "metadata": {},
   "outputs": [
    {
     "data": {
      "image/png": "[encoded data removed]",
      "text/plain": [
       "<Figure size 1000x600 with 1 Axes>"
      ]
     },
     "metadata": {},
     "output_type": "display_data"
    }
   ],
   "source": [
    "# Plot the development of recommendations over time\n",
    "recommendations['date'] = pd.to_datetime(recommendations['date'])\n",
    "recommendations['publish_year'] = recommendations['date'].dt.year\n",
    "\n",
    "recommendations_by_time = recommendations['publish_year'].value_counts().sort_index()\n",
    "plt.figure(figsize=(10, 6))\n",
    "plt.plot(recommendations_by_time.index, recommendations_by_time.values)\n",
    "plt.title('Number of Recommendations Over Time')\n",
    "plt.xlabel('Timestamp')\n",
    "plt.ylabel('Number of Recommendations')\n",
    "plt.grid(True)\n",
    "plt.yscale('log')\n",
    "plt.show()"
   ]
  },
  {
   "cell_type": "code",
   "execution_count": 26,
   "metadata": {},
   "outputs": [
    {
     "name": "stdout",
     "output_type": "stream",
     "text": [
      "Correlation Matrix:\n",
      "                 helpful    funny  is_recommended\n",
      "helpful         1.000000  0.48036       -0.026876\n",
      "funny           0.480360  1.00000       -0.003370\n",
      "is_recommended -0.026876 -0.00337        1.000000\n"
     ]
    }
   ],
   "source": [
    "# Now lets see the correlation between reviews as helpful, funny and is_recommended\n",
    "# Calculate the correlation matrix\n",
    "correlation_matrix = recommendations[['helpful', 'funny', 'is_recommended']].corr()\n",
    "\n",
    "print('Correlation Matrix:')\n",
    "print(correlation_matrix)"
   ]
  },
  {
   "cell_type": "code",
   "execution_count": 27,
   "metadata": {},
   "outputs": [
    {
     "name": "stdout",
     "output_type": "stream",
     "text": [
      "Correlation between user activity and recommendation ratings: 0.045541765155484054\n"
     ]
    }
   ],
   "source": [
    "# Now lets see the correlation between reviews and hours played\n",
    "correlation = recommendations['hours'].corr(recommendations['is_recommended'])\n",
    "print(\"Correlation between user activity and recommendation ratings:\", correlation)"
   ]
  },
  {
   "cell_type": "code",
   "execution_count": 28,
   "metadata": {},
   "outputs": [
    {
     "name": "stdout",
     "output_type": "stream",
     "text": [
      "is_recommended\n",
      "True     9118637\n",
      "False    1111350\n",
      "Name: count, dtype: int64\n"
     ]
    },
    {
     "data": {
      "image/png": "[encoded data removed]",
      "text/plain": [
       "<Figure size 640x480 with 1 Axes>"
      ]
     },
     "metadata": {},
     "output_type": "display_data"
    }
   ],
   "source": [
    "# Save those users with more than 100 hours played\n",
    "high_activity_users = recommendations[recommendations['hours'] > 100]\n",
    "\n",
    "# Count how many is_recomended reviews were made by those users\n",
    "recommendation_counts = high_activity_users['is_recommended'].value_counts()\n",
    "recommendation_counts.plot(kind='bar', color=['green', 'red'])\n",
    "\n",
    "print(recommendation_counts)\n",
    "\n",
    "# Plot the distribution of recommendations for users with more than 100 hours played\n",
    "for i, count in enumerate(recommendation_counts):\n",
    "    plt.text(i, count + 1000, str(count), ha='center', va='bottom')\n",
    "plt.title('Distribution of Recommendations for Users with More Than 100 Hours Played')\n",
    "plt.xlabel('Recommended')\n",
    "plt.ylabel('Number of Users')\n",
    "plt.yscale('log')\n",
    "plt.tight_layout()"
   ]
  },
  {
   "cell_type": "markdown",
   "metadata": {},
   "source": [
    "### 1.3 - Adapting data"
   ]
  },
  {
   "cell_type": "code",
   "execution_count": 29,
   "metadata": {},
   "outputs": [
    {
     "data": {
      "text/plain": [
       "Index(['app_id', 'title', 'date_release', 'win', 'mac', 'linux', 'rating',\n",
       "       'positive_ratio', 'user_reviews', 'price_final', 'price_original',\n",
       "       'discount', 'steam_deck', 'release_year', 'price_category',\n",
       "       'description', 'tags'],\n",
       "      dtype='object')"
      ]
     },
     "execution_count": 29,
     "metadata": {},
     "output_type": "execute_result"
    }
   ],
   "source": [
    "# Create a new dataframe joining the games and games_metadata dataframes\n",
    "merged_data = pd.merge(games,games_metadata,on='app_id',how='inner')\n",
    "merged_data.columns"
   ]
  },
  {
   "cell_type": "code",
   "execution_count": 30,
   "metadata": {},
   "outputs": [
    {
     "data": {
      "text/html": [
       "<div>\n",
       "<style scoped>\n",
       "    .dataframe tbody tr th:only-of-type {\n",
       "        vertical-align: middle;\n",
       "    }\n",
       "\n",
       "    .dataframe tbody tr th {\n",
       "        vertical-align: top;\n",
       "    }\n",
       "\n",
       "    .dataframe thead th {\n",
       "        text-align: right;\n",
       "    }\n",
       "</style>\n",
       "<table border=\"1\" class=\"dataframe\">\n",
       "  <thead>\n",
       "    <tr style=\"text-align: right;\">\n",
       "      <th></th>\n",
       "      <th>app_id</th>\n",
       "      <th>title</th>\n",
       "      <th>description</th>\n",
       "      <th>tags</th>\n",
       "      <th>rating</th>\n",
       "    </tr>\n",
       "  </thead>\n",
       "  <tbody>\n",
       "    <tr>\n",
       "      <th>0</th>\n",
       "      <td>13500</td>\n",
       "      <td>Prince of Persia: Warrior Within™</td>\n",
       "      <td>Enter the dark underworld of Prince of Persia ...</td>\n",
       "      <td>[Action, Adventure, Parkour, Third Person, Gre...</td>\n",
       "      <td>Very Positive</td>\n",
       "    </tr>\n",
       "    <tr>\n",
       "      <th>1</th>\n",
       "      <td>22364</td>\n",
       "      <td>BRINK: Agents of Change</td>\n",
       "      <td></td>\n",
       "      <td>[Action]</td>\n",
       "      <td>Positive</td>\n",
       "    </tr>\n",
       "    <tr>\n",
       "      <th>2</th>\n",
       "      <td>113020</td>\n",
       "      <td>Monaco: What's Yours Is Mine</td>\n",
       "      <td>Monaco: What's Yours Is Mine is a single playe...</td>\n",
       "      <td>[Co-op, Stealth, Indie, Heist, Local Co-Op, St...</td>\n",
       "      <td>Very Positive</td>\n",
       "    </tr>\n",
       "    <tr>\n",
       "      <th>3</th>\n",
       "      <td>226560</td>\n",
       "      <td>Escape Dead Island</td>\n",
       "      <td>Escape Dead Island is a Survival-Mystery adven...</td>\n",
       "      <td>[Zombies, Adventure, Survival, Action, Third P...</td>\n",
       "      <td>Mixed</td>\n",
       "    </tr>\n",
       "    <tr>\n",
       "      <th>4</th>\n",
       "      <td>249050</td>\n",
       "      <td>Dungeon of the ENDLESS™</td>\n",
       "      <td>Dungeon of the Endless is a Rogue-Like Dungeon...</td>\n",
       "      <td>[Roguelike, Strategy, Tower Defense, Pixel Gra...</td>\n",
       "      <td>Very Positive</td>\n",
       "    </tr>\n",
       "  </tbody>\n",
       "</table>\n",
       "</div>"
      ],
      "text/plain": [
       "   app_id                              title  \\\n",
       "0   13500  Prince of Persia: Warrior Within™   \n",
       "1   22364            BRINK: Agents of Change   \n",
       "2  113020       Monaco: What's Yours Is Mine   \n",
       "3  226560                 Escape Dead Island   \n",
       "4  249050            Dungeon of the ENDLESS™   \n",
       "\n",
       "                                         description  \\\n",
       "0  Enter the dark underworld of Prince of Persia ...   \n",
       "1                                                      \n",
       "2  Monaco: What's Yours Is Mine is a single playe...   \n",
       "3  Escape Dead Island is a Survival-Mystery adven...   \n",
       "4  Dungeon of the Endless is a Rogue-Like Dungeon...   \n",
       "\n",
       "                                                tags         rating  \n",
       "0  [Action, Adventure, Parkour, Third Person, Gre...  Very Positive  \n",
       "1                                           [Action]       Positive  \n",
       "2  [Co-op, Stealth, Indie, Heist, Local Co-Op, St...  Very Positive  \n",
       "3  [Zombies, Adventure, Survival, Action, Third P...          Mixed  \n",
       "4  [Roguelike, Strategy, Tower Defense, Pixel Gra...  Very Positive  "
      ]
     },
     "execution_count": 30,
     "metadata": {},
     "output_type": "execute_result"
    }
   ],
   "source": [
    "# Select those columns that are relevant for the recommendation system\n",
    "df = merged_data[['app_id','title','description','tags','rating']]\n",
    "df.head()"
   ]
  },
  {
   "cell_type": "code",
   "execution_count": 31,
   "metadata": {},
   "outputs": [
    {
     "name": "stderr",
     "output_type": "stream",
     "text": [
      "/tmp/ipykernel_1322598/893991118.py:2: SettingWithCopyWarning: \n",
      "A value is trying to be set on a copy of a slice from a DataFrame.\n",
      "Try using .loc[row_indexer,col_indexer] = value instead\n",
      "\n",
      "See the caveats in the documentation: https://pandas.pydata.org/pandas-docs/stable/user_guide/indexing.html#returning-a-view-versus-a-copy\n",
      "  df['tags'] = df['tags'].apply(lambda x: ' '.join(x))\n",
      "/tmp/ipykernel_1322598/893991118.py:4: SettingWithCopyWarning: \n",
      "A value is trying to be set on a copy of a slice from a DataFrame.\n",
      "Try using .loc[row_indexer,col_indexer] = value instead\n",
      "\n",
      "See the caveats in the documentation: https://pandas.pydata.org/pandas-docs/stable/user_guide/indexing.html#returning-a-view-versus-a-copy\n",
      "  df['overview'] = df['title'] + \" \" + df['description'] + \" \" + df['tags']\n"
     ]
    },
    {
     "data": {
      "text/html": [
       "<div>\n",
       "<style scoped>\n",
       "    .dataframe tbody tr th:only-of-type {\n",
       "        vertical-align: middle;\n",
       "    }\n",
       "\n",
       "    .dataframe tbody tr th {\n",
       "        vertical-align: top;\n",
       "    }\n",
       "\n",
       "    .dataframe thead th {\n",
       "        text-align: right;\n",
       "    }\n",
       "</style>\n",
       "<table border=\"1\" class=\"dataframe\">\n",
       "  <thead>\n",
       "    <tr style=\"text-align: right;\">\n",
       "      <th></th>\n",
       "      <th>app_id</th>\n",
       "      <th>title</th>\n",
       "      <th>description</th>\n",
       "      <th>tags</th>\n",
       "      <th>rating</th>\n",
       "      <th>overview</th>\n",
       "    </tr>\n",
       "  </thead>\n",
       "  <tbody>\n",
       "    <tr>\n",
       "      <th>0</th>\n",
       "      <td>13500</td>\n",
       "      <td>Prince of Persia: Warrior Within™</td>\n",
       "      <td>Enter the dark underworld of Prince of Persia ...</td>\n",
       "      <td>Action Adventure Parkour Third Person Great So...</td>\n",
       "      <td>Very Positive</td>\n",
       "      <td>Prince of Persia: Warrior Within™ Enter the da...</td>\n",
       "    </tr>\n",
       "    <tr>\n",
       "      <th>1</th>\n",
       "      <td>22364</td>\n",
       "      <td>BRINK: Agents of Change</td>\n",
       "      <td></td>\n",
       "      <td>Action</td>\n",
       "      <td>Positive</td>\n",
       "      <td>BRINK: Agents of Change  Action</td>\n",
       "    </tr>\n",
       "    <tr>\n",
       "      <th>2</th>\n",
       "      <td>113020</td>\n",
       "      <td>Monaco: What's Yours Is Mine</td>\n",
       "      <td>Monaco: What's Yours Is Mine is a single playe...</td>\n",
       "      <td>Co-op Stealth Indie Heist Local Co-Op Strategy...</td>\n",
       "      <td>Very Positive</td>\n",
       "      <td>Monaco: What's Yours Is Mine Monaco: What's Yo...</td>\n",
       "    </tr>\n",
       "    <tr>\n",
       "      <th>3</th>\n",
       "      <td>226560</td>\n",
       "      <td>Escape Dead Island</td>\n",
       "      <td>Escape Dead Island is a Survival-Mystery adven...</td>\n",
       "      <td>Zombies Adventure Survival Action Third Person...</td>\n",
       "      <td>Mixed</td>\n",
       "      <td>Escape Dead Island Escape Dead Island is a Sur...</td>\n",
       "    </tr>\n",
       "    <tr>\n",
       "      <th>4</th>\n",
       "      <td>249050</td>\n",
       "      <td>Dungeon of the ENDLESS™</td>\n",
       "      <td>Dungeon of the Endless is a Rogue-Like Dungeon...</td>\n",
       "      <td>Roguelike Strategy Tower Defense Pixel Graphic...</td>\n",
       "      <td>Very Positive</td>\n",
       "      <td>Dungeon of the ENDLESS™ Dungeon of the Endless...</td>\n",
       "    </tr>\n",
       "  </tbody>\n",
       "</table>\n",
       "</div>"
      ],
      "text/plain": [
       "   app_id                              title  \\\n",
       "0   13500  Prince of Persia: Warrior Within™   \n",
       "1   22364            BRINK: Agents of Change   \n",
       "2  113020       Monaco: What's Yours Is Mine   \n",
       "3  226560                 Escape Dead Island   \n",
       "4  249050            Dungeon of the ENDLESS™   \n",
       "\n",
       "                                         description  \\\n",
       "0  Enter the dark underworld of Prince of Persia ...   \n",
       "1                                                      \n",
       "2  Monaco: What's Yours Is Mine is a single playe...   \n",
       "3  Escape Dead Island is a Survival-Mystery adven...   \n",
       "4  Dungeon of the Endless is a Rogue-Like Dungeon...   \n",
       "\n",
       "                                                tags         rating  \\\n",
       "0  Action Adventure Parkour Third Person Great So...  Very Positive   \n",
       "1                                             Action       Positive   \n",
       "2  Co-op Stealth Indie Heist Local Co-Op Strategy...  Very Positive   \n",
       "3  Zombies Adventure Survival Action Third Person...          Mixed   \n",
       "4  Roguelike Strategy Tower Defense Pixel Graphic...  Very Positive   \n",
       "\n",
       "                                            overview  \n",
       "0  Prince of Persia: Warrior Within™ Enter the da...  \n",
       "1                    BRINK: Agents of Change  Action  \n",
       "2  Monaco: What's Yours Is Mine Monaco: What's Yo...  \n",
       "3  Escape Dead Island Escape Dead Island is a Sur...  \n",
       "4  Dungeon of the ENDLESS™ Dungeon of the Endless...  "
      ]
     },
     "execution_count": 31,
     "metadata": {},
     "output_type": "execute_result"
    }
   ],
   "source": [
    "# Take each list of tags and join them into a single string\n",
    "df['tags'] = df['tags'].apply(lambda x: ' '.join(x))\n",
    "# Join the title the description and the tags into a single string\n",
    "df['overview'] = df['title'] + \" \" + df['description'] + \" \" + df['tags']\n",
    "df.head()"
   ]
  },
  {
   "cell_type": "code",
   "execution_count": 32,
   "metadata": {},
   "outputs": [
    {
     "name": "stderr",
     "output_type": "stream",
     "text": [
      "/tmp/ipykernel_1322598/76139293.py:16: SettingWithCopyWarning: \n",
      "A value is trying to be set on a copy of a slice from a DataFrame.\n",
      "Try using .loc[row_indexer,col_indexer] = value instead\n",
      "\n",
      "See the caveats in the documentation: https://pandas.pydata.org/pandas-docs/stable/user_guide/indexing.html#returning-a-view-versus-a-copy\n",
      "  df['numerical_rating'] = df['rating'].map(rating_map)\n"
     ]
    },
    {
     "data": {
      "text/html": [
       "<div>\n",
       "<style scoped>\n",
       "    .dataframe tbody tr th:only-of-type {\n",
       "        vertical-align: middle;\n",
       "    }\n",
       "\n",
       "    .dataframe tbody tr th {\n",
       "        vertical-align: top;\n",
       "    }\n",
       "\n",
       "    .dataframe thead th {\n",
       "        text-align: right;\n",
       "    }\n",
       "</style>\n",
       "<table border=\"1\" class=\"dataframe\">\n",
       "  <thead>\n",
       "    <tr style=\"text-align: right;\">\n",
       "      <th></th>\n",
       "      <th>app_id</th>\n",
       "      <th>title</th>\n",
       "      <th>description</th>\n",
       "      <th>tags</th>\n",
       "      <th>rating</th>\n",
       "      <th>overview</th>\n",
       "      <th>numerical_rating</th>\n",
       "    </tr>\n",
       "  </thead>\n",
       "  <tbody>\n",
       "    <tr>\n",
       "      <th>0</th>\n",
       "      <td>13500</td>\n",
       "      <td>Prince of Persia: Warrior Within™</td>\n",
       "      <td>Enter the dark underworld of Prince of Persia ...</td>\n",
       "      <td>Action Adventure Parkour Third Person Great So...</td>\n",
       "      <td>Very Positive</td>\n",
       "      <td>Prince of Persia: Warrior Within™ Enter the da...</td>\n",
       "      <td>7</td>\n",
       "    </tr>\n",
       "    <tr>\n",
       "      <th>1</th>\n",
       "      <td>22364</td>\n",
       "      <td>BRINK: Agents of Change</td>\n",
       "      <td></td>\n",
       "      <td>Action</td>\n",
       "      <td>Positive</td>\n",
       "      <td>BRINK: Agents of Change  Action</td>\n",
       "      <td>5</td>\n",
       "    </tr>\n",
       "    <tr>\n",
       "      <th>2</th>\n",
       "      <td>113020</td>\n",
       "      <td>Monaco: What's Yours Is Mine</td>\n",
       "      <td>Monaco: What's Yours Is Mine is a single playe...</td>\n",
       "      <td>Co-op Stealth Indie Heist Local Co-Op Strategy...</td>\n",
       "      <td>Very Positive</td>\n",
       "      <td>Monaco: What's Yours Is Mine Monaco: What's Yo...</td>\n",
       "      <td>7</td>\n",
       "    </tr>\n",
       "    <tr>\n",
       "      <th>3</th>\n",
       "      <td>226560</td>\n",
       "      <td>Escape Dead Island</td>\n",
       "      <td>Escape Dead Island is a Survival-Mystery adven...</td>\n",
       "      <td>Zombies Adventure Survival Action Third Person...</td>\n",
       "      <td>Mixed</td>\n",
       "      <td>Escape Dead Island Escape Dead Island is a Sur...</td>\n",
       "      <td>4</td>\n",
       "    </tr>\n",
       "    <tr>\n",
       "      <th>4</th>\n",
       "      <td>249050</td>\n",
       "      <td>Dungeon of the ENDLESS™</td>\n",
       "      <td>Dungeon of the Endless is a Rogue-Like Dungeon...</td>\n",
       "      <td>Roguelike Strategy Tower Defense Pixel Graphic...</td>\n",
       "      <td>Very Positive</td>\n",
       "      <td>Dungeon of the ENDLESS™ Dungeon of the Endless...</td>\n",
       "      <td>7</td>\n",
       "    </tr>\n",
       "  </tbody>\n",
       "</table>\n",
       "</div>"
      ],
      "text/plain": [
       "   app_id                              title  \\\n",
       "0   13500  Prince of Persia: Warrior Within™   \n",
       "1   22364            BRINK: Agents of Change   \n",
       "2  113020       Monaco: What's Yours Is Mine   \n",
       "3  226560                 Escape Dead Island   \n",
       "4  249050            Dungeon of the ENDLESS™   \n",
       "\n",
       "                                         description  \\\n",
       "0  Enter the dark underworld of Prince of Persia ...   \n",
       "1                                                      \n",
       "2  Monaco: What's Yours Is Mine is a single playe...   \n",
       "3  Escape Dead Island is a Survival-Mystery adven...   \n",
       "4  Dungeon of the Endless is a Rogue-Like Dungeon...   \n",
       "\n",
       "                                                tags         rating  \\\n",
       "0  Action Adventure Parkour Third Person Great So...  Very Positive   \n",
       "1                                             Action       Positive   \n",
       "2  Co-op Stealth Indie Heist Local Co-Op Strategy...  Very Positive   \n",
       "3  Zombies Adventure Survival Action Third Person...          Mixed   \n",
       "4  Roguelike Strategy Tower Defense Pixel Graphic...  Very Positive   \n",
       "\n",
       "                                            overview  numerical_rating  \n",
       "0  Prince of Persia: Warrior Within™ Enter the da...                 7  \n",
       "1                    BRINK: Agents of Change  Action                 5  \n",
       "2  Monaco: What's Yours Is Mine Monaco: What's Yo...                 7  \n",
       "3  Escape Dead Island Escape Dead Island is a Sur...                 4  \n",
       "4  Dungeon of the ENDLESS™ Dungeon of the Endless...                 7  "
      ]
     },
     "execution_count": 32,
     "metadata": {},
     "output_type": "execute_result"
    }
   ],
   "source": [
    "# Now lets map the ratings to numerical values\n",
    "# Create a mapping dictionary\n",
    "rating_map = {\n",
    "    'Overwhelmingly Negative': 0,\n",
    "    'Very Negative': 1,\n",
    "    'Mostly Negative': 2,\n",
    "    'Negative': 3,\n",
    "    'Mixed': 4,\n",
    "    'Positive': 5,\n",
    "    'Mostly Positive': 6,\n",
    "    'Very Positive': 7,\n",
    "    'Overwhelmingly Positive': 8\n",
    "}\n",
    "\n",
    "# Map the textual ratings to numerical values\n",
    "df['numerical_rating'] = df['rating'].map(rating_map)\n",
    "df.head()"
   ]
  },
  {
   "cell_type": "code",
   "execution_count": 33,
   "metadata": {},
   "outputs": [
    {
     "data": {
      "text/plain": [
       "(50872, 7)"
      ]
     },
     "execution_count": 33,
     "metadata": {},
     "output_type": "execute_result"
    }
   ],
   "source": [
    "df.shape"
   ]
  },
  {
   "cell_type": "code",
   "execution_count": 34,
   "metadata": {},
   "outputs": [
    {
     "data": {
      "text/html": [
       "<div>\n",
       "<style scoped>\n",
       "    .dataframe tbody tr th:only-of-type {\n",
       "        vertical-align: middle;\n",
       "    }\n",
       "\n",
       "    .dataframe tbody tr th {\n",
       "        vertical-align: top;\n",
       "    }\n",
       "\n",
       "    .dataframe thead th {\n",
       "        text-align: right;\n",
       "    }\n",
       "</style>\n",
       "<table border=\"1\" class=\"dataframe\">\n",
       "  <thead>\n",
       "    <tr style=\"text-align: right;\">\n",
       "      <th></th>\n",
       "      <th>app_id</th>\n",
       "      <th>title</th>\n",
       "      <th>numerical_rating</th>\n",
       "      <th>overview</th>\n",
       "    </tr>\n",
       "  </thead>\n",
       "  <tbody>\n",
       "    <tr>\n",
       "      <th>0</th>\n",
       "      <td>13500</td>\n",
       "      <td>Prince of Persia: Warrior Within™</td>\n",
       "      <td>7</td>\n",
       "      <td>Prince of Persia: Warrior Within™ Enter the da...</td>\n",
       "    </tr>\n",
       "    <tr>\n",
       "      <th>1</th>\n",
       "      <td>22364</td>\n",
       "      <td>BRINK: Agents of Change</td>\n",
       "      <td>5</td>\n",
       "      <td>BRINK: Agents of Change  Action</td>\n",
       "    </tr>\n",
       "    <tr>\n",
       "      <th>2</th>\n",
       "      <td>113020</td>\n",
       "      <td>Monaco: What's Yours Is Mine</td>\n",
       "      <td>7</td>\n",
       "      <td>Monaco: What's Yours Is Mine Monaco: What's Yo...</td>\n",
       "    </tr>\n",
       "    <tr>\n",
       "      <th>3</th>\n",
       "      <td>226560</td>\n",
       "      <td>Escape Dead Island</td>\n",
       "      <td>4</td>\n",
       "      <td>Escape Dead Island Escape Dead Island is a Sur...</td>\n",
       "    </tr>\n",
       "    <tr>\n",
       "      <th>4</th>\n",
       "      <td>249050</td>\n",
       "      <td>Dungeon of the ENDLESS™</td>\n",
       "      <td>7</td>\n",
       "      <td>Dungeon of the ENDLESS™ Dungeon of the Endless...</td>\n",
       "    </tr>\n",
       "  </tbody>\n",
       "</table>\n",
       "</div>"
      ],
      "text/plain": [
       "   app_id                              title  numerical_rating  \\\n",
       "0   13500  Prince of Persia: Warrior Within™                 7   \n",
       "1   22364            BRINK: Agents of Change                 5   \n",
       "2  113020       Monaco: What's Yours Is Mine                 7   \n",
       "3  226560                 Escape Dead Island                 4   \n",
       "4  249050            Dungeon of the ENDLESS™                 7   \n",
       "\n",
       "                                            overview  \n",
       "0  Prince of Persia: Warrior Within™ Enter the da...  \n",
       "1                    BRINK: Agents of Change  Action  \n",
       "2  Monaco: What's Yours Is Mine Monaco: What's Yo...  \n",
       "3  Escape Dead Island Escape Dead Island is a Sur...  \n",
       "4  Dungeon of the ENDLESS™ Dungeon of the Endless...  "
      ]
     },
     "execution_count": 34,
     "metadata": {},
     "output_type": "execute_result"
    }
   ],
   "source": [
    "# Set the final dataframe we will use for the recommendation system\n",
    "final_df = df[['app_id','title','numerical_rating','overview']]\n",
    "final_df.head()"
   ]
  },
  {
   "cell_type": "markdown",
   "metadata": {},
   "source": [
    "## 2 - Training the model\n",
    "\n",
    "To train the model we will use the library SentenceTransformer with the model all-MiniLM-L6-v2 to transform the sentences of the overview into tokens and faiss, a similar method to cosine similarity but from facebook that requires much less memory to get the similarity between videogames. But first, we will start adapting the overview words to be able to tokenize them"
   ]
  },
  {
   "cell_type": "code",
   "execution_count": 35,
   "metadata": {},
   "outputs": [],
   "source": [
    "# Create a function to remove special characters from the overview\n",
    "import re \n",
    "\n",
    "def remove_special_characters(text):\n",
    "    # \\w matches any word character (alphanumeric & underscore).\n",
    "    # \\s matches any whitespace character (spaces, tabs, line breaks).\n",
    "    return re.sub(r'[^\\w\\s]', '', text)"
   ]
  },
  {
   "cell_type": "code",
   "execution_count": 36,
   "metadata": {},
   "outputs": [
    {
     "name": "stderr",
     "output_type": "stream",
     "text": [
      "/tmp/ipykernel_1322598/3782279336.py:2: SettingWithCopyWarning: \n",
      "A value is trying to be set on a copy of a slice from a DataFrame.\n",
      "Try using .loc[row_indexer,col_indexer] = value instead\n",
      "\n",
      "See the caveats in the documentation: https://pandas.pydata.org/pandas-docs/stable/user_guide/indexing.html#returning-a-view-versus-a-copy\n",
      "  df['overview'] = df['overview'].apply(lambda x: remove_special_characters(x))\n",
      "/tmp/ipykernel_1322598/3782279336.py:3: SettingWithCopyWarning: \n",
      "A value is trying to be set on a copy of a slice from a DataFrame.\n",
      "Try using .loc[row_indexer,col_indexer] = value instead\n",
      "\n",
      "See the caveats in the documentation: https://pandas.pydata.org/pandas-docs/stable/user_guide/indexing.html#returning-a-view-versus-a-copy\n",
      "  df['overview'] = df['overview'].apply(lambda x: x.lower())\n"
     ]
    }
   ],
   "source": [
    "# Clean the overview column and convert to lowercase\n",
    "df['overview'] = df['overview'].apply(lambda x: remove_special_characters(x))\n",
    "df['overview'] = df['overview'].apply(lambda x: x.lower())"
   ]
  },
  {
   "cell_type": "code",
   "execution_count": null,
   "metadata": {},
   "outputs": [
    {
     "name": "stderr",
     "output_type": "stream",
     "text": [
      "/home/pedro/Master_python/TFM/tfmenv/lib/python3.10/site-packages/torch/cuda/__init__.py:129: UserWarning: CUDA initialization: CUDA unknown error - this may be due to an incorrectly set up environment, e.g. changing env variable CUDA_VISIBLE_DEVICES after program start. Setting the available devices to be zero. (Triggered internally at ../c10/cuda/CUDAFunctions.cpp:108.)\n",
      "  return torch._C._cuda_getDeviceCount() > 0\n",
      "/home/pedro/Master_python/TFM/tfmenv/lib/python3.10/site-packages/transformers/tokenization_utils_base.py:1601: FutureWarning: `clean_up_tokenization_spaces` was not set. It will be set to `True` by default. This behavior will be depracted in transformers v4.45, and will be then set to `False` by default. For more details check this issue: https://github.com/huggingface/transformers/issues/31884\n",
      "  warnings.warn(\n"
     ]
    }
   ],
   "source": [
    "# Once we have the overview cleaned and stemmed, we will use the SentenceTransformer along with the model all-MiniLM-L6-v2 to convert the overview into a matrix of token counts\n",
    "from sentence_transformers import SentenceTransformer\n",
    "\n",
    "# Load the pretrained model\n",
    "model = SentenceTransformer('all-MiniLM-L6-v2')"
   ]
  },
  {
   "cell_type": "code",
   "execution_count": 38,
   "metadata": {},
   "outputs": [
    {
     "data": {
      "application/vnd.jupyter.widget-view+json": {
       "model_id": "72b2c9354bcc4c369292efb906acf1d2",
       "version_major": 2,
       "version_minor": 0
      },
      "text/plain": [
       "Batches:   0%|          | 0/1590 [00:00<?, ?it/s]"
      ]
     },
     "metadata": {},
     "output_type": "display_data"
    }
   ],
   "source": [
    "# Create the sentence embeddings and reduce the data type to float32 to save memory\n",
    "vectors = model.encode(df['overview'].tolist(), show_progress_bar=True)\n",
    "vectors = np.array(vectors, dtype=np.float32)"
   ]
  },
  {
   "cell_type": "code",
   "execution_count": 39,
   "metadata": {},
   "outputs": [
    {
     "name": "stdout",
     "output_type": "stream",
     "text": [
      "(50872, 384)\n",
      "<class 'numpy.ndarray'>\n"
     ]
    }
   ],
   "source": [
    "# Show the shape and type of the vectors\n",
    "print(vectors.shape)\n",
    "print(type(vectors))"
   ]
  },
  {
   "cell_type": "code",
   "execution_count": 40,
   "metadata": {},
   "outputs": [],
   "source": [
    "# As cosine similarity requires too much memory, we will use FAISS (Facebook AI Similarity Search) trying to reduce the memory usage\n",
    "import faiss\n",
    "# Create a FAISS index (it doesn't save the vectors in memory, only the indexes)\n",
    "# We will use the IndexFlatIP index, which is an index for inner product similarity search (cosine similarity)\n",
    "index = faiss.IndexFlatIP(vectors.shape[1])\n",
    "# Add the vectors to the index\n",
    "index.add(vectors)\n"
   ]
  },
  {
   "cell_type": "code",
   "execution_count": 41,
   "metadata": {},
   "outputs": [],
   "source": [
    "# Finally we create a function that will return the top 10 recommendations for a given game without using games ratings\n",
    "def recommend(game):\n",
    "    # Get the index of the game\n",
    "    game_index = final_df[final_df['title'] == game].index[0]\n",
    "    # Get the similarity vector of the corresponding game\n",
    "    query_vector = vectors[game_index].reshape(1, -1)\n",
    "    # Look for the 10 most similar games (including the game itself)\n",
    "    distances, indexes = index.search(query_vector, 11) # Return 11 games, as the first one is the game itself\n",
    "    # Remove the game itself from the list\n",
    "    game_list = indexes[0][1:]\n",
    "    # Return the top 10 recommendations\n",
    "    for i in game_list:\n",
    "        print(final_df.iloc[i]['title'])"
   ]
  },
  {
   "cell_type": "code",
   "execution_count": 53,
   "metadata": {},
   "outputs": [],
   "source": [
    "# This second version of the function will return the top 10 recommendations for a given game using games ratings\n",
    "def recommend_v2(game):\n",
    "    # Get the index of the game\n",
    "    game_index = final_df[final_df['title'] == game].index[0]\n",
    "    # Get the similarity vector of the corresponding game\n",
    "    query_vector = vectors[game_index].reshape(1, -1)\n",
    "    # Look for the 10 most similar games (including the game itself)\n",
    "    distances, indexes = index.search(query_vector, 31) # Return 21 games, as the first one is the game itself\n",
    "    # Remove the game itself from the list\n",
    "    game_list = indexes[0][1:]\n",
    "    distances = distances[0][1:]\n",
    "\n",
    "    # Get the average user rating for each game\n",
    "    game_ratings = final_df.iloc[game_list]['numerical_rating']\n",
    "\n",
    "    # Create a list of games with indexes, ratings and distances\n",
    "    games = list(zip(game_list, game_ratings, distances))\n",
    "\n",
    "    # Order by rating and distance in case of a tie\n",
    "    sorted_games = sorted(games, key=lambda x: (-x[1], x[2]))\n",
    "\n",
    "    # Get the indexes of the top 10 recommendations\n",
    "    top_games = sorted_games[:10]\n",
    "    # print(top_games)\n",
    "\n",
    "    # Return the top 10 recommendations\n",
    "    for i,_,_ in top_games:\n",
    "        print(final_df.iloc[i]['title'])"
   ]
  },
  {
   "cell_type": "code",
   "execution_count": 55,
   "metadata": {},
   "outputs": [
    {
     "data": {
      "text/html": [
       "<div>\n",
       "<style scoped>\n",
       "    .dataframe tbody tr th:only-of-type {\n",
       "        vertical-align: middle;\n",
       "    }\n",
       "\n",
       "    .dataframe tbody tr th {\n",
       "        vertical-align: top;\n",
       "    }\n",
       "\n",
       "    .dataframe thead th {\n",
       "        text-align: right;\n",
       "    }\n",
       "</style>\n",
       "<table border=\"1\" class=\"dataframe\">\n",
       "  <thead>\n",
       "    <tr style=\"text-align: right;\">\n",
       "      <th></th>\n",
       "      <th>app_id</th>\n",
       "      <th>title</th>\n",
       "      <th>numerical_rating</th>\n",
       "      <th>overview</th>\n",
       "    </tr>\n",
       "  </thead>\n",
       "  <tbody>\n",
       "    <tr>\n",
       "      <th>6086</th>\n",
       "      <td>271943</td>\n",
       "      <td>DARK SOULS™ II Crown of the Old Iron King</td>\n",
       "      <td>7</td>\n",
       "      <td>DARK SOULS™ II Crown of the Old Iron King  RPG...</td>\n",
       "    </tr>\n",
       "    <tr>\n",
       "      <th>9429</th>\n",
       "      <td>236430</td>\n",
       "      <td>DARK SOULS™ II</td>\n",
       "      <td>7</td>\n",
       "      <td>DARK SOULS™ II</td>\n",
       "    </tr>\n",
       "    <tr>\n",
       "      <th>13272</th>\n",
       "      <td>335300</td>\n",
       "      <td>DARK SOULS™ II: Scholar of the First Sin</td>\n",
       "      <td>7</td>\n",
       "      <td>DARK SOULS™ II: Scholar of the First Sin</td>\n",
       "    </tr>\n",
       "    <tr>\n",
       "      <th>13467</th>\n",
       "      <td>506971</td>\n",
       "      <td>DARK SOULS™ III - The Ringed City™</td>\n",
       "      <td>7</td>\n",
       "      <td>DARK SOULS™ III - The Ringed City™  Dark Fanta...</td>\n",
       "    </tr>\n",
       "    <tr>\n",
       "      <th>13554</th>\n",
       "      <td>271944</td>\n",
       "      <td>DARK SOULS™ II Crown of the Ivory King</td>\n",
       "      <td>7</td>\n",
       "      <td>DARK SOULS™ II Crown of the Ivory King  Action...</td>\n",
       "    </tr>\n",
       "    <tr>\n",
       "      <th>15268</th>\n",
       "      <td>570940</td>\n",
       "      <td>DARK SOULS™: REMASTERED</td>\n",
       "      <td>7</td>\n",
       "      <td>DARK SOULS™: REMASTERED</td>\n",
       "    </tr>\n",
       "    <tr>\n",
       "      <th>16071</th>\n",
       "      <td>374320</td>\n",
       "      <td>DARK SOULS™ III</td>\n",
       "      <td>7</td>\n",
       "      <td>DARK SOULS™ III</td>\n",
       "    </tr>\n",
       "    <tr>\n",
       "      <th>17102</th>\n",
       "      <td>506970</td>\n",
       "      <td>DARK SOULS™ III - Ashes of Ariandel™</td>\n",
       "      <td>4</td>\n",
       "      <td>DARK SOULS™ III - Ashes of Ariandel™  Dark Fan...</td>\n",
       "    </tr>\n",
       "    <tr>\n",
       "      <th>26762</th>\n",
       "      <td>284450</td>\n",
       "      <td>DARK SOULS™ II - Season Pass</td>\n",
       "      <td>7</td>\n",
       "      <td>DARK SOULS™ II - Season Pass  RPG Action Dark ...</td>\n",
       "    </tr>\n",
       "    <tr>\n",
       "      <th>29250</th>\n",
       "      <td>271942</td>\n",
       "      <td>DARK SOULS™ II Crown of the Sunken King</td>\n",
       "      <td>6</td>\n",
       "      <td>DARK SOULS™ II Crown of the Sunken King  RPG A...</td>\n",
       "    </tr>\n",
       "    <tr>\n",
       "      <th>33316</th>\n",
       "      <td>442010</td>\n",
       "      <td>DARK SOULS™ III - Season Pass</td>\n",
       "      <td>6</td>\n",
       "      <td>DARK SOULS™ III - Season Pass  Action Dark Fan...</td>\n",
       "    </tr>\n",
       "    <tr>\n",
       "      <th>36517</th>\n",
       "      <td>211420</td>\n",
       "      <td>DARK SOULS™: Prepare To Die™ Edition</td>\n",
       "      <td>7</td>\n",
       "      <td>DARK SOULS™: Prepare To Die™ Edition Dark Soul...</td>\n",
       "    </tr>\n",
       "  </tbody>\n",
       "</table>\n",
       "</div>"
      ],
      "text/plain": [
       "       app_id                                      title  numerical_rating  \\\n",
       "6086   271943  DARK SOULS™ II Crown of the Old Iron King                 7   \n",
       "9429   236430                             DARK SOULS™ II                 7   \n",
       "13272  335300   DARK SOULS™ II: Scholar of the First Sin                 7   \n",
       "13467  506971         DARK SOULS™ III - The Ringed City™                 7   \n",
       "13554  271944     DARK SOULS™ II Crown of the Ivory King                 7   \n",
       "15268  570940                    DARK SOULS™: REMASTERED                 7   \n",
       "16071  374320                            DARK SOULS™ III                 7   \n",
       "17102  506970       DARK SOULS™ III - Ashes of Ariandel™                 4   \n",
       "26762  284450               DARK SOULS™ II - Season Pass                 7   \n",
       "29250  271942    DARK SOULS™ II Crown of the Sunken King                 6   \n",
       "33316  442010              DARK SOULS™ III - Season Pass                 6   \n",
       "36517  211420       DARK SOULS™: Prepare To Die™ Edition                 7   \n",
       "\n",
       "                                                overview  \n",
       "6086   DARK SOULS™ II Crown of the Old Iron King  RPG...  \n",
       "9429                                    DARK SOULS™ II    \n",
       "13272         DARK SOULS™ II: Scholar of the First Sin    \n",
       "13467  DARK SOULS™ III - The Ringed City™  Dark Fanta...  \n",
       "13554  DARK SOULS™ II Crown of the Ivory King  Action...  \n",
       "15268                          DARK SOULS™: REMASTERED    \n",
       "16071                                  DARK SOULS™ III    \n",
       "17102  DARK SOULS™ III - Ashes of Ariandel™  Dark Fan...  \n",
       "26762  DARK SOULS™ II - Season Pass  RPG Action Dark ...  \n",
       "29250  DARK SOULS™ II Crown of the Sunken King  RPG A...  \n",
       "33316  DARK SOULS™ III - Season Pass  Action Dark Fan...  \n",
       "36517  DARK SOULS™: Prepare To Die™ Edition Dark Soul...  "
      ]
     },
     "execution_count": 55,
     "metadata": {},
     "output_type": "execute_result"
    }
   ],
   "source": [
    "# Create a function to search for games by title\n",
    "def search_game(query):\n",
    "    # Convert the query to lowercase for case-insensitive search\n",
    "    query = query.lower()\n",
    "    # Filter the dataframe for titles that start with or contain the query string\n",
    "    result = final_df[final_df['title'].str.lower().str.contains(query)]\n",
    "    return result\n",
    "\n",
    "# Find a game in the dataset\n",
    "search_game(\"dark souls\")"
   ]
  },
  {
   "cell_type": "code",
   "execution_count": 56,
   "metadata": {},
   "outputs": [
    {
     "name": "stdout",
     "output_type": "stream",
     "text": [
      "DARK SOULS™ III\n",
      "DARK SOULS™: REMASTERED\n",
      "DARK SOULS™ II Crown of the Old Iron King\n",
      "Darkest Dungeon® II\n",
      "DARK SOULS™ II Crown of the Ivory King\n",
      "DARK SOULS™: Prepare To Die™ Edition\n",
      "DARK SOULS™ II: Scholar of the First Sin\n",
      "DARK SOULS™ II Crown of the Sunken King\n",
      "DARK SOULS™ II - Season Pass\n",
      "DARK SOULS™ III - Season Pass\n"
     ]
    }
   ],
   "source": [
    "# Now we will test the recommendation system\n",
    "recommend(\"DARK SOULS™ II\")"
   ]
  },
  {
   "cell_type": "code",
   "execution_count": 57,
   "metadata": {},
   "outputs": [
    {
     "name": "stdout",
     "output_type": "stream",
     "text": [
      "Resident Evil 2\n",
      "Borderlands 2\n",
      "The Legend of Dark Witch 2 （魔神少女エピソード２）\n",
      "Dark Deception Chapter 2\n",
      "Soul Survivors\n",
      "The Darkness II\n",
      "Destiny 2\n",
      "DARK SOULS™ III - The Ringed City™\n",
      "DARK SOULS™ II - Season Pass\n",
      "DARK SOULS™ II: Scholar of the First Sin\n"
     ]
    }
   ],
   "source": [
    "# Now we will test the recommendation system\n",
    "recommend_v2(\"DARK SOULS™ II\")"
   ]
  }
 ],
 "metadata": {
  "kernelspec": {
   "display_name": "tfmenv",
   "language": "python",
   "name": "python3"
  },
  "language_info": {
   "codemirror_mode": {
    "name": "ipython",
    "version": 3
   },
   "file_extension": ".py",
   "mimetype": "text/x-python",
   "name": "python",
   "nbconvert_exporter": "python",
   "pygments_lexer": "ipython3",
   "version": "3.10.12"
  }
 },
 "nbformat": 4,
 "nbformat_minor": 2
}
